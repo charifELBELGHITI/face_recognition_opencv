{
 "cells": [
  {
   "cell_type": "code",
   "execution_count": null,
   "id": "8d9ee93f",
   "metadata": {},
   "outputs": [],
   "source": [
    "import cv2\n",
    "\n",
    "# Load the cascade classifier XML file\n",
    "cascade_path = 'haarcascade_frontalface_default.xml'\n",
    "classifier = cv2.CascadeClassifier(cascade_path)\n",
    "\n",
    "# Open the video capture\n",
    "vid = cv2.VideoCapture(0)  # Use 0 for the default webcam\n",
    "\n",
    "while True:\n",
    "    _, frame = vid.read()\n",
    "    gray = cv2.cvtColor(frame, cv2.COLOR_BGR2GRAY)\n",
    "\n",
    "    # Perform face detection\n",
    "    faces = classifier.detectMultiScale(gray)\n",
    "\n",
    "    # Draw rectangles around the detected faces\n",
    "    for face in faces:\n",
    "        x, y, width, height = face\n",
    "        cv2.rectangle(frame, (x, y), (x + width, y + height), (0, 255, 0), 1)\n",
    "\n",
    "    # Display the frame\n",
    "    cv2.imshow('Face Recognition', frame)\n",
    "\n",
    "    # Exit the loop if 'q' is pressed\n",
    "    if cv2.waitKey(1) & 0xFF == ord('q'):\n",
    "        break\n",
    "\n",
    "# Release the video capture and close the windows\n",
    "vid.release()\n",
    "cv2.destroyAllWindows()\n"
   ]
  }
 ],
 "metadata": {
  "kernelspec": {
   "display_name": "Python (prophet_env)",
   "language": "python",
   "name": "prophet_env"
  },
  "language_info": {
   "codemirror_mode": {
    "name": "ipython",
    "version": 3
   },
   "file_extension": ".py",
   "mimetype": "text/x-python",
   "name": "python",
   "nbconvert_exporter": "python",
   "pygments_lexer": "ipython3",
   "version": "3.8.16"
  }
 },
 "nbformat": 4,
 "nbformat_minor": 5
}
